{
 "cells": [
  {
   "cell_type": "markdown",
   "metadata": {},
   "source": [
    "### Environment Setup"
   ]
  },
  {
   "cell_type": "code",
   "execution_count": 1,
   "metadata": {},
   "outputs": [],
   "source": [
    "import torch\n",
    "import torch.nn as nn\n",
    "import torch.nn.functional as F\n",
    "import torch.optim as optim\n",
    "from random import randint\n",
    "import time\n",
    "import random\n",
    "import torch.utils.data as data\n",
    "from PIL import Image\n",
    "import torchvision\n",
    "import torchvision.transforms as transforms\n",
    "import cv2\n",
    "import sys, os\n",
    "\n",
    "batch_size = 64\n",
    "num_classes = 3\n",
    "learning_rate = 0.001\n",
    "num_epochs = 10\n",
    "\n",
    "device = torch.device('cuda' if torch.cuda.is_available() else 'cpu')"
   ]
  },
  {
   "cell_type": "code",
   "execution_count": 2,
   "metadata": {},
   "outputs": [],
   "source": [
    "device= torch.device(\"cpu\")\n",
    "\n",
    "root_dir = os.getcwd() + '/data_processing'\n",
    "image_dir = root_dir + '/all_images/'\n",
    "train_dir = root_dir + '/train_set_with_label'\n",
    "test_dir = root_dir + '/test_set_with_label'\n",
    "val_dir = root_dir + '/val_set_with_label'"
   ]
  },
  {
   "cell_type": "code",
   "execution_count": 3,
   "metadata": {},
   "outputs": [
    {
     "data": {
      "text/plain": [
       "9029"
      ]
     },
     "execution_count": 3,
     "metadata": {},
     "output_type": "execute_result"
    }
   ],
   "source": [
    "len(os.listdir(image_dir))"
   ]
  },
  {
   "cell_type": "code",
   "execution_count": 4,
   "metadata": {},
   "outputs": [],
   "source": [
    "for file in os.listdir(image_dir):\n",
    "    assert file.endswith(\".jpg\")"
   ]
  },
  {
   "cell_type": "markdown",
   "metadata": {},
   "source": [
    "### Dataloader"
   ]
  },
  {
   "cell_type": "code",
   "execution_count": 5,
   "metadata": {},
   "outputs": [],
   "source": [
    "class FaceSet(data.Dataset):\n",
    "    def __init__(self,folder,transform):\n",
    "        self.transform=transform\n",
    "        imgs=[os.path.join(folder,f) for f in os.listdir(folder)]\n",
    "        self.imgs = imgs\n",
    "        \n",
    "    def __getitem__(self,index):\n",
    "        imgpath=self.imgs[index]\n",
    "        im=Image.open(imgpath)\n",
    "        if im.mode == \"RGBA\":\n",
    "            r, g, b, a=im.split ()\n",
    "            im=Image.merge (\"RGB\", (r, g, b))\n",
    "        elif im.mode!=\"RGB\":\n",
    "            im=im.convert (\"RGB\")\n",
    "        im=self.transform(im)\n",
    "        symbol = imgpath.split('/')[-1].split('.')[0].split('_')[-1]\n",
    "        if symbol == \"0\":\n",
    "            label = 0\n",
    "        elif symbol == \"1\":\n",
    "            label = 1\n",
    "        else:\n",
    "            label = 2\n",
    "        return (0.2990 * im[0] + 0.5870 * im[1] + 0.1140 * im[2]).unsqueeze(0),label\n",
    "    \n",
    "    def __len__(self):\n",
    "        return len(self.imgs)"
   ]
  },
  {
   "cell_type": "code",
   "execution_count": 17,
   "metadata": {},
   "outputs": [],
   "source": [
    "class FaceSet(data.Dataset):\n",
    "    def __init__(self,folder,transform):\n",
    "        self.transform=transform\n",
    "        imgs=[os.path.join(folder,f) for f in os.listdir(folder)]\n",
    "        self.imgs = imgs\n",
    "        \n",
    "    def __getitem__(self,index):\n",
    "        imgpath=self.imgs[index]\n",
    "        im=Image.open(imgpath)\n",
    "        if im.mode == \"RGBA\":\n",
    "            r, g, b, a=im.split ()\n",
    "            im=Image.merge (\"RGB\", (r, g, b))\n",
    "        elif im.mode!=\"RGB\":\n",
    "            im=im.convert (\"RGB\")\n",
    "        im=self.transform(im)\n",
    "        symbol = imgpath.split('/')[-1].split('.')[0].split('_')[-1]\n",
    "        if symbol == \"0\":\n",
    "            label = 0\n",
    "        elif symbol == \"1\":\n",
    "            label = 1\n",
    "        else:\n",
    "            label = 2\n",
    "        return (0.2990 * im[0] + 0.5870 * im[1] + 0.1140 * im[2]).unsqueeze(0),label\n",
    "        \n",
    "    def __len__(self):\n",
    "        return len(self.imgs)"
   ]
  },
  {
   "cell_type": "code",
   "execution_count": 18,
   "metadata": {},
   "outputs": [
    {
     "name": "stdout",
     "output_type": "stream",
     "text": [
      "torch.Size([3, 28, 28])\n"
     ]
    }
   ],
   "source": [
    "transform_train=transforms.Compose([ \n",
    "    transforms.ToTensor(),\n",
    "    transforms.Normalize([0.5, 0.5, 0.5], [0.5, 0.5, 0.5])\n",
    "])\n",
    "transform_test=transforms.Compose([ \n",
    "    transforms.ToTensor(),\n",
    "    transforms.Normalize([0.5, 0.5, 0.5], [0.5, 0.5, 0.5])\n",
    "])\n",
    "\n",
    "for fn in os.listdir(image_dir):\n",
    "    im=Image.open(image_dir + fn)\n",
    "    print(transform_train(im).size())\n",
    "    break"
   ]
  },
  {
   "cell_type": "code",
   "execution_count": 19,
   "metadata": {},
   "outputs": [],
   "source": [
    "# define dataset\n",
    "trainset=FaceSet(train_dir,transform=transform_train)\n",
    "valset=FaceSet(val_dir,transform=transform_test)\n",
    "testset=FaceSet(test_dir,transform=transform_test)"
   ]
  },
  {
   "cell_type": "markdown",
   "metadata": {},
   "source": [
    "### Model Architecture"
   ]
  },
  {
   "cell_type": "markdown",
   "metadata": {},
   "source": [
    "![title](report_images/MLP_architecture.png)"
   ]
  },
  {
   "cell_type": "code",
   "execution_count": 24,
   "metadata": {},
   "outputs": [],
   "source": [
    "class mlp(nn.Module):\n",
    "    def __init__(self, input_size, output_size):\n",
    "        super(mlp , self).__init__()\n",
    "        self.layer1 = nn.Linear(input_size, 128 , bias=False)\n",
    "        #self.layer2 = nn.Linear(256, 128, bias=False)\n",
    "        self.layer3 = nn.Linear(128, 32, bias=False)\n",
    "        self.layer4 = nn.Linear(32, output_size, bias=False)\n",
    "        \n",
    "    def forward(self, x):\n",
    "        batch_size = x.shape[0]\n",
    "        x = x.view(batch_size, -1)\n",
    "        x = F.relu(self.layer1(x))\n",
    "        # x = F.relu(self.layer2(x))\n",
    "        x = F.relu(self.layer3(x))\n",
    "        y = F.relu(self.layer4(x))\n",
    "        return y"
   ]
  },
  {
   "cell_type": "code",
   "execution_count": 25,
   "metadata": {},
   "outputs": [],
   "source": [
    "bs = batch_size\n",
    "train_loader=torch.utils.data.DataLoader(trainset,batch_size=bs,shuffle=True,num_workers=0)\n",
    "val_loader=torch.utils.data.DataLoader(valset,batch_size=bs,shuffle=False,num_workers=0)\n",
    "test_loader=torch.utils.data.DataLoader(testset,batch_size=bs,shuffle=False,num_workers=0)"
   ]
  },
  {
   "cell_type": "markdown",
   "metadata": {},
   "source": [
    "### Train and Evaluation"
   ]
  },
  {
   "cell_type": "code",
   "execution_count": 30,
   "metadata": {},
   "outputs": [],
   "source": [
    "model = mlp(28 * 28, 3)\n",
    "cost = nn.CrossEntropyLoss()\n",
    "optimizer = torch.optim.Adam(model.parameters(), lr=learning_rate)\n",
    "total_step = len(train_loader)"
   ]
  },
  {
   "cell_type": "code",
   "execution_count": 31,
   "metadata": {
    "scrolled": true
   },
   "outputs": [
    {
     "name": "stdout",
     "output_type": "stream",
     "text": [
      "Train Epoch [1/10], Step [113/113], Loss: 0.8740, Accuracy: 0.6034\n",
      "Val Epoch [1/10], Step [15/113], Loss: 0.7560, Accuracy: 0.6435\n",
      "Train Epoch [2/10], Step [113/113], Loss: 0.7297, Accuracy: 0.6707\n",
      "Val Epoch [2/10], Step [15/113], Loss: 0.7001, Accuracy: 0.6848\n",
      "Train Epoch [3/10], Step [113/113], Loss: 0.6552, Accuracy: 0.7086\n",
      "Val Epoch [3/10], Step [15/113], Loss: 0.6322, Accuracy: 0.7217\n",
      "Train Epoch [4/10], Step [113/113], Loss: 0.5688, Accuracy: 0.7663\n",
      "Val Epoch [4/10], Step [15/113], Loss: 0.6316, Accuracy: 0.7130\n",
      "Train Epoch [5/10], Step [113/113], Loss: 0.5169, Accuracy: 0.7918\n",
      "Val Epoch [5/10], Step [15/113], Loss: 0.5858, Accuracy: 0.7522\n",
      "Train Epoch [6/10], Step [113/113], Loss: 0.4593, Accuracy: 0.8190\n",
      "Val Epoch [6/10], Step [15/113], Loss: 0.5494, Accuracy: 0.7772\n",
      "Train Epoch [7/10], Step [113/113], Loss: 0.4046, Accuracy: 0.8462\n",
      "Val Epoch [7/10], Step [15/113], Loss: 0.5397, Accuracy: 0.7739\n",
      "Train Epoch [8/10], Step [113/113], Loss: 0.3617, Accuracy: 0.8622\n",
      "Val Epoch [8/10], Step [15/113], Loss: 0.5335, Accuracy: 0.7870\n",
      "Train Epoch [9/10], Step [113/113], Loss: 0.3199, Accuracy: 0.8837\n",
      "Val Epoch [9/10], Step [15/113], Loss: 0.5006, Accuracy: 0.8196\n",
      "Train Epoch [10/10], Step [113/113], Loss: 0.2746, Accuracy: 0.8996\n",
      "Val Epoch [10/10], Step [15/113], Loss: 0.4905, Accuracy: 0.8217\n"
     ]
    }
   ],
   "source": [
    "total_step = len(train_loader)\n",
    "\n",
    "epoch_num = range(num_epochs)\n",
    "train_acc_list = []\n",
    "train_loss_list = []\n",
    "val_acc_list = []\n",
    "val_loss_list = []\n",
    "\n",
    "for epoch in range(num_epochs):\n",
    "    \n",
    "    ### Train\n",
    "    correct = 0\n",
    "    total = 0\n",
    "    running_loss = 0.0\n",
    "    model.train()\n",
    "    for i, (images, labels) in enumerate(train_loader): \n",
    "        images = images.to(device)\n",
    "        labels = labels.to(device)\n",
    "        \n",
    "        #Forward pass\n",
    "        outputs = model(images)\n",
    "        loss = cost(outputs, labels)\n",
    "        \n",
    "        _, predicted = torch.max(outputs.data, 1)\n",
    "        total += labels.size(0)\n",
    "        correct += (predicted == labels).sum().item()\n",
    "        running_loss += loss.item()\n",
    "\n",
    "        # Backward and optimize\n",
    "        optimizer.zero_grad()\n",
    "        loss.backward()\n",
    "        optimizer.step()\n",
    "        \n",
    "    train_acc = correct / total\n",
    "    train_loss = running_loss / (i+1)\n",
    "    train_acc_list.append(train_acc)\n",
    "    train_loss_list.append(train_loss)\n",
    "        \n",
    "    print ('Train Epoch [{}/{}], Step [{}/{}], Loss: {:.4f}, Accuracy: {:.4f}'\n",
    "    .format(epoch+1, num_epochs, i+1, total_step, train_loss, train_acc))\n",
    "    \n",
    "    ### Evaluation\n",
    "    correct = 0\n",
    "    total = 0\n",
    "    running_loss = 0.0\n",
    "    model.eval()\n",
    "    for i, (images, labels) in enumerate(val_loader):  \n",
    "        images = images.to(device)\n",
    "        labels = labels.to(device)\n",
    "        #Forward pass\n",
    "        outputs = model(images)\n",
    "        loss = cost(outputs, labels)\n",
    "        \n",
    "        _, predicted = torch.max(outputs.data, 1)\n",
    "        total += labels.size(0)\n",
    "        correct += (predicted == labels).sum().item()\n",
    "        running_loss += loss.item()\n",
    "        \n",
    "    val_acc = correct / total\n",
    "    val_loss = running_loss / (i+1)\n",
    "    val_acc_list.append(val_acc)\n",
    "    val_loss_list.append(val_loss)\n",
    "        \n",
    "    print ('Val Epoch [{}/{}], Step [{}/{}], Loss: {:.4f}, Accuracy: {:.4f}'\n",
    "    .format(epoch+1, num_epochs, i+1, total_step, val_loss, val_acc))"
   ]
  },
  {
   "cell_type": "markdown",
   "metadata": {},
   "source": [
    "### Test"
   ]
  },
  {
   "cell_type": "code",
   "execution_count": 32,
   "metadata": {},
   "outputs": [
    {
     "name": "stdout",
     "output_type": "stream",
     "text": [
      "Accuracy of the network on the test set: 78.91304347826087 %\n"
     ]
    }
   ],
   "source": [
    "### Test\n",
    "with torch.no_grad():\n",
    "    correct = 0\n",
    "    total = 0\n",
    "    for images, labels in test_loader:\n",
    "        images = images.to(device)\n",
    "        labels = labels.to(device)\n",
    "        outputs = model(images)\n",
    "        _, predicted = torch.max(outputs.data, 1)\n",
    "        total += labels.size(0)\n",
    "        correct += (predicted == labels).sum().item()\n",
    "\n",
    "    print('Accuracy of the network on the test set: {} %'.format(100 * correct / total))"
   ]
  },
  {
   "cell_type": "markdown",
   "metadata": {},
   "source": [
    "### visualization"
   ]
  },
  {
   "cell_type": "code",
   "execution_count": 33,
   "metadata": {},
   "outputs": [
    {
     "data": {
      "image/png": "[encoded data removed]",
      "text/plain": [
       "<Figure size 432x288 with 2 Axes>"
      ]
     },
     "metadata": {
      "needs_background": "light"
     },
     "output_type": "display_data"
    }
   ],
   "source": [
    "from matplotlib.pyplot import MultipleLocator\n",
    "import matplotlib.pyplot as plt\n",
    "\n",
    "plt.subplot(2, 1, 1)\n",
    "plt.plot(epoch_num, train_acc_list, 'o-', label='train_acc')\n",
    "plt.plot(epoch_num, val_acc_list, 'o-', label='val_acc')\n",
    "plt.legend()\n",
    "plt.title('Train/Val accuracy vs epoches')\n",
    "x = MultipleLocator(1)\n",
    "ax = plt.gca()\n",
    "ax.xaxis.set_major_locator(x)\n",
    "plt.ylabel('Accuracy')\n",
    "plt.subplots_adjust(wspace=0, hspace=0.3)\n",
    "plt.subplot(2, 1, 2)\n",
    "plt.plot(epoch_num, train_loss_list, 'o-', label='train_loss')\n",
    "plt.plot(epoch_num, val_loss_list, 'o-', label='val_loss')\n",
    "plt.legend()\n",
    "plt.title('Train/Val loss vs epoches')\n",
    "x = MultipleLocator(1)\n",
    "ax = plt.gca()\n",
    "ax.xaxis.set_major_locator(x)\n",
    "plt.ylabel('Loss')\n",
    "plt.show()"
   ]
  },
  {
   "cell_type": "markdown",
   "metadata": {},
   "source": [
    "### Reference"
   ]
  },
  {
   "cell_type": "markdown",
   "metadata": {},
   "source": [
    "Coskun, N., & Yildirim, T. (2003, July). The effects of training algorithms in MLP network on image classification. In Proceedings of the International Joint Conference on Neural Networks, 2003. (Vol. 2, pp. 1223-1226). IEEE."
   ]
  },
  {
   "cell_type": "markdown",
   "metadata": {},
   "source": [
    "Ladić, Tin, and Ante Mandekić. \"Face mask classification using MLP Classifier.\" Ri-STEM-2021 10.68 (2021): 77."
   ]
  },
  {
   "cell_type": "code",
   "execution_count": null,
   "metadata": {},
   "outputs": [],
   "source": []
  }
 ],
 "metadata": {
  "kernelspec": {
   "display_name": "CS5242",
   "language": "python",
   "name": "cs5242"
  },
  "language_info": {
   "codemirror_mode": {
    "name": "ipython",
    "version": 3
   },
   "file_extension": ".py",
   "mimetype": "text/x-python",
   "name": "python",
   "nbconvert_exporter": "python",
   "pygments_lexer": "ipython3",
   "version": "3.7.15"
  }
 },
 "nbformat": 4,
 "nbformat_minor": 4
}
