{
 "cells": [
  {
   "cell_type": "markdown",
   "metadata": {},
   "source": [
    "### Environment Setup"
   ]
  },
  {
   "cell_type": "code",
   "execution_count": 54,
   "metadata": {},
   "outputs": [],
   "source": [
    "import torch\n",
    "import torch.nn as nn\n",
    "import torch.nn.functional as F\n",
    "import torch.optim as optim\n",
    "from random import randint\n",
    "import time\n",
    "import random\n",
    "import torch.utils.data as data\n",
    "from PIL import Image\n",
    "import torchvision\n",
    "import torchvision.transforms as transforms\n",
    "import cv2\n",
    "import sys, os"
   ]
  },
  {
   "cell_type": "markdown",
   "metadata": {},
   "source": [
    "#### Hyper-parameters and Device"
   ]
  },
  {
   "cell_type": "code",
   "execution_count": null,
   "metadata": {},
   "outputs": [],
   "source": [
    "batch_size = 64\n",
    "num_classes = 3\n",
    "learning_rate = 0.001\n",
    "num_epochs = 10\n",
    "\n",
    "device = torch.device('cuda' if torch.cuda.is_available() else 'cpu')"
   ]
  },
  {
   "cell_type": "markdown",
   "metadata": {},
   "source": [
    "#### Specify Repositories"
   ]
  },
  {
   "cell_type": "code",
   "execution_count": 55,
   "metadata": {},
   "outputs": [],
   "source": [
    "root_dir = os.getcwd() + '/data_processing'\n",
    "image_dir = root_dir + '/all_images/'\n",
    "train_dir = root_dir + '/train_set_with_label'\n",
    "test_dir = root_dir + '/test_set_with_label'\n",
    "val_dir = root_dir + '/val_set_with_label'"
   ]
  },
  {
   "cell_type": "code",
   "execution_count": 6,
   "metadata": {},
   "outputs": [
    {
     "data": {
      "text/plain": [
       "9029"
      ]
     },
     "execution_count": 6,
     "metadata": {},
     "output_type": "execute_result"
    }
   ],
   "source": [
    "len(os.listdir(image_dir))"
   ]
  },
  {
   "cell_type": "code",
   "execution_count": 7,
   "metadata": {},
   "outputs": [],
   "source": [
    "for file in os.listdir(image_dir):\n",
    "    assert file.endswith(\".jpg\")"
   ]
  },
  {
   "cell_type": "code",
   "execution_count": 8,
   "metadata": {},
   "outputs": [],
   "source": [
    "model_dir = os.getcwd() + '/model_CNN_try2/'"
   ]
  },
  {
   "cell_type": "markdown",
   "metadata": {},
   "source": [
    "### Dataloader"
   ]
  },
  {
   "cell_type": "markdown",
   "metadata": {},
   "source": [
    "#### face image dataset"
   ]
  },
  {
   "cell_type": "code",
   "execution_count": 9,
   "metadata": {},
   "outputs": [],
   "source": [
    "class FaceSet(data.Dataset):\n",
    "    def __init__(self,folder,transform):\n",
    "        self.transform=transform\n",
    "        imgs=[os.path.join(folder,f) for f in os.listdir(folder)]\n",
    "        self.imgs = imgs\n",
    "        \n",
    "    def __getitem__(self,index):\n",
    "        imgpath=self.imgs[index]\n",
    "        im=Image.open(imgpath)\n",
    "        if im.mode == \"RGBA\":\n",
    "            r, g, b, a=im.split ()\n",
    "            im=Image.merge (\"RGB\", (r, g, b))\n",
    "        elif im.mode!=\"RGB\":\n",
    "            im=im.convert (\"RGB\")\n",
    "        im=self.transform(im)\n",
    "        symbol = imgpath.split('/')[-1].split('.')[0].split('_')[-1]\n",
    "        if symbol == \"0\":\n",
    "            label = 0\n",
    "        elif symbol == \"1\":\n",
    "            label = 1\n",
    "        else:\n",
    "            label = 2\n",
    "        return im,label\n",
    "    \n",
    "    def __len__(self):\n",
    "        return len(self.imgs)"
   ]
  },
  {
   "cell_type": "markdown",
   "metadata": {},
   "source": [
    "#### image transformer"
   ]
  },
  {
   "cell_type": "code",
   "execution_count": 10,
   "metadata": {},
   "outputs": [
    {
     "name": "stdout",
     "output_type": "stream",
     "text": [
      "torch.Size([3, 32, 32])\n"
     ]
    }
   ],
   "source": [
    "transform_train=transforms.Compose([ \n",
    "    transforms.Resize((32,32)),\n",
    "    transforms.ToTensor(),\n",
    "    transforms.Normalize([0.5, 0.5, 0.5], [0.5, 0.5, 0.5])\n",
    "])\n",
    "transform_test=transforms.Compose([ \n",
    "    transforms.Resize((32,32)),\n",
    "    transforms.ToTensor(),\n",
    "    transforms.Normalize([0.5, 0.5, 0.5], [0.5, 0.5, 0.5])\n",
    "])\n",
    "\n",
    "for fn in os.listdir(image_dir):\n",
    "    im=Image.open(image_dir + fn)\n",
    "    print(transform_train(im).size())\n",
    "    break"
   ]
  },
  {
   "cell_type": "code",
   "execution_count": 11,
   "metadata": {},
   "outputs": [],
   "source": [
    "# define dataset\n",
    "trainset=FaceSet(train_dir,transform=transform_train)\n",
    "valset=FaceSet(val_dir,transform=transform_test)\n",
    "testset=FaceSet(test_dir,transform=transform_test)"
   ]
  },
  {
   "cell_type": "code",
   "execution_count": null,
   "metadata": {},
   "outputs": [],
   "source": [
    "# define dataloader\n",
    "bs = batch_size\n",
    "train_loader=torch.utils.data.DataLoader(trainset,batch_size=bs,shuffle=True,num_workers=0)\n",
    "val_loader=torch.utils.data.DataLoader(valset,batch_size=bs,shuffle=False,num_workers=0)\n",
    "test_loader=torch.utils.data.DataLoader(testset,batch_size=bs,shuffle=False,num_workers=0)"
   ]
  },
  {
   "cell_type": "markdown",
   "metadata": {},
   "source": [
    "### Model Architecture"
   ]
  },
  {
   "cell_type": "markdown",
   "metadata": {},
   "source": [
    "![title](report_images/CNN_architecture.png)"
   ]
  },
  {
   "cell_type": "markdown",
   "metadata": {},
   "source": [
    "#### model implementation"
   ]
  },
  {
   "cell_type": "code",
   "execution_count": 20,
   "metadata": {},
   "outputs": [],
   "source": [
    "class cnn(nn.Module):\n",
    "    def __init__(self):\n",
    "        super(cnn, self).__init__()\n",
    "        self.layer1 = nn.Sequential(\n",
    "            nn.Conv2d(3, 6, kernel_size=5, stride=1, padding=0),\n",
    "            nn.BatchNorm2d(6),\n",
    "            nn.ReLU(),\n",
    "            nn.MaxPool2d(kernel_size = 2, stride = 2))\n",
    "        self.layer2 = nn.Sequential(\n",
    "            nn.Conv2d(6, 16, kernel_size=5, stride=1, padding=0),\n",
    "            nn.BatchNorm2d(16),\n",
    "            nn.ReLU(),\n",
    "            nn.MaxPool2d(kernel_size = 2, stride = 2))\n",
    "        self.fc = nn.Linear(400, 120)\n",
    "        self.relu = nn.ReLU()\n",
    "        self.fc1 = nn.Linear(120, 84)\n",
    "        self.relu1 = nn.ReLU()\n",
    "        self.fc2 = nn.Linear(84, num_classes)\n",
    "        \n",
    "    def forward(self, x):\n",
    "        out = self.layer1(x)\n",
    "        out = self.layer2(out)\n",
    "        out = out.reshape(out.size(0), -1)\n",
    "        out = self.fc(out)\n",
    "        out = self.relu(out)\n",
    "        out = self.fc1(out)\n",
    "        out = self.relu1(out)\n",
    "        out = self.fc2(out)\n",
    "        return out"
   ]
  },
  {
   "cell_type": "markdown",
   "metadata": {},
   "source": [
    "### Model Training"
   ]
  },
  {
   "cell_type": "code",
   "execution_count": 51,
   "metadata": {},
   "outputs": [],
   "source": [
    "model = cnn()\n",
    "cost = nn.CrossEntropyLoss()\n",
    "optimizer = torch.optim.Adam(model.parameters(), lr=learning_rate)\n",
    "total_step = len(train_loader)"
   ]
  },
  {
   "cell_type": "code",
   "execution_count": 52,
   "metadata": {
    "scrolled": true
   },
   "outputs": [
    {
     "name": "stdout",
     "output_type": "stream",
     "text": [
      "Train Epoch [1/10], Step [113/113], Loss: 0.7562, Accuracy: 0.6531\n",
      "Val Epoch [1/10], Step [15/113], Loss: 0.7032, Accuracy: 0.6891\n",
      "Train Epoch [2/10], Step [113/113], Loss: 0.5927, Accuracy: 0.7377\n",
      "Val Epoch [2/10], Step [15/113], Loss: 0.5533, Accuracy: 0.7424\n",
      "Train Epoch [3/10], Step [113/113], Loss: 0.5358, Accuracy: 0.7676\n",
      "Val Epoch [3/10], Step [15/113], Loss: 0.5499, Accuracy: 0.7554\n",
      "Train Epoch [4/10], Step [113/113], Loss: 0.4861, Accuracy: 0.7876\n",
      "Val Epoch [4/10], Step [15/113], Loss: 0.5149, Accuracy: 0.7620\n",
      "Train Epoch [5/10], Step [113/113], Loss: 0.4441, Accuracy: 0.8112\n",
      "Val Epoch [5/10], Step [15/113], Loss: 0.4847, Accuracy: 0.8000\n",
      "Train Epoch [6/10], Step [113/113], Loss: 0.4094, Accuracy: 0.8371\n",
      "Val Epoch [6/10], Step [15/113], Loss: 0.4771, Accuracy: 0.8109\n",
      "Train Epoch [7/10], Step [113/113], Loss: 0.3712, Accuracy: 0.8474\n",
      "Val Epoch [7/10], Step [15/113], Loss: 0.4840, Accuracy: 0.8120\n",
      "Train Epoch [8/10], Step [113/113], Loss: 0.3145, Accuracy: 0.8711\n",
      "Val Epoch [8/10], Step [15/113], Loss: 0.4418, Accuracy: 0.8272\n",
      "Train Epoch [9/10], Step [113/113], Loss: 0.2849, Accuracy: 0.8900\n",
      "Val Epoch [9/10], Step [15/113], Loss: 0.4698, Accuracy: 0.8196\n",
      "Train Epoch [10/10], Step [113/113], Loss: 0.2526, Accuracy: 0.9011\n",
      "Val Epoch [10/10], Step [15/113], Loss: 0.5099, Accuracy: 0.8076\n"
     ]
    }
   ],
   "source": [
    "total_step = len(train_loader)\n",
    "\n",
    "epoch_num = range(num_epochs)\n",
    "train_acc_list = []\n",
    "train_loss_list = []\n",
    "val_acc_list = []\n",
    "val_loss_list = []\n",
    "\n",
    "for epoch in range(num_epochs):\n",
    "    \n",
    "    ### Train\n",
    "    correct = 0\n",
    "    total = 0\n",
    "    running_loss = 0.0\n",
    "    model.train()\n",
    "    for i, (images, labels) in enumerate(train_loader):  \n",
    "        images = images.to(device)\n",
    "        labels = labels.to(device)\n",
    "        \n",
    "        #Forward pass\n",
    "        outputs = model(images)\n",
    "        loss = cost(outputs, labels)\n",
    "        \n",
    "        _, predicted = torch.max(outputs.data, 1)\n",
    "        total += labels.size(0)\n",
    "        correct += (predicted == labels).sum().item()\n",
    "        running_loss += loss.item()\n",
    "\n",
    "        # Backward and optimize\n",
    "        optimizer.zero_grad()\n",
    "        loss.backward()\n",
    "        optimizer.step()\n",
    "        \n",
    "    train_acc = correct / total\n",
    "    train_loss = running_loss / (i+1)\n",
    "    train_acc_list.append(train_acc)\n",
    "    train_loss_list.append(train_loss)\n",
    "        \n",
    "    print ('Train Epoch [{}/{}], Step [{}/{}], Loss: {:.4f}, Accuracy: {:.4f}'\n",
    "    .format(epoch+1, num_epochs, i+1, total_step, train_loss, train_acc))\n",
    "    \n",
    "    ### Evaluation\n",
    "    correct = 0\n",
    "    total = 0\n",
    "    running_loss = 0.0\n",
    "    model.eval()\n",
    "    for i, (images, labels) in enumerate(val_loader):  \n",
    "        images = images.to(device)\n",
    "        labels = labels.to(device)\n",
    "        \n",
    "        #Forward pass\n",
    "        outputs = model(images)\n",
    "        loss = cost(outputs, labels)\n",
    "        \n",
    "        _, predicted = torch.max(outputs.data, 1)\n",
    "        total += labels.size(0)\n",
    "        correct += (predicted == labels).sum().item()\n",
    "        running_loss += loss.item()\n",
    "        \n",
    "    val_acc = correct / total\n",
    "    val_loss = running_loss / (i+1)\n",
    "    val_acc_list.append(val_acc)\n",
    "    val_loss_list.append(val_loss)\n",
    "        \n",
    "    print ('Val Epoch [{}/{}], Step [{}/{}], Loss: {:.4f}, Accuracy: {:.4f}'\n",
    "    .format(epoch+1, num_epochs, i+1, total_step, val_loss, val_acc))"
   ]
  },
  {
   "cell_type": "markdown",
   "metadata": {},
   "source": [
    "### Testing"
   ]
  },
  {
   "cell_type": "code",
   "execution_count": 48,
   "metadata": {},
   "outputs": [
    {
     "name": "stdout",
     "output_type": "stream",
     "text": [
      "Accuracy of the network on the test set: 83.04347826086956 %\n"
     ]
    }
   ],
   "source": [
    "### Test\n",
    "with torch.no_grad():\n",
    "    correct = 0\n",
    "    total = 0\n",
    "    for images, labels in test_loader:\n",
    "        images = images.to(device)\n",
    "        labels = labels.to(device)\n",
    "        outputs = model(images)\n",
    "        _, predicted = torch.max(outputs.data, 1)\n",
    "        total += labels.size(0)\n",
    "        correct += (predicted == labels).sum().item()\n",
    "\n",
    "    print('Accuracy of the network on the test set: {} %'.format(100 * correct / total))"
   ]
  },
  {
   "cell_type": "markdown",
   "metadata": {},
   "source": [
    "### Loss and Acc Visualization"
   ]
  },
  {
   "cell_type": "code",
   "execution_count": 50,
   "metadata": {},
   "outputs": [
    {
     "data": {
      "image/png": "[encoded data removed]",
      "text/plain": [
       "<Figure size 432x288 with 2 Axes>"
      ]
     },
     "metadata": {
      "needs_background": "light"
     },
     "output_type": "display_data"
    }
   ],
   "source": [
    "from matplotlib.pyplot import MultipleLocator\n",
    "import matplotlib.pyplot as plt\n",
    "\n",
    "plt.subplot(2, 1, 1)\n",
    "plt.plot(epoch_num, train_acc_list, 'o-', label='train_acc')\n",
    "plt.plot(epoch_num, val_acc_list, 'o-', label='val_acc')\n",
    "plt.legend()\n",
    "plt.title('Train/Val accuracy vs epoches')\n",
    "x = MultipleLocator(1)\n",
    "ax = plt.gca()\n",
    "ax.xaxis.set_major_locator(x)\n",
    "plt.ylabel('Accuracy')\n",
    "plt.subplots_adjust(wspace=0, hspace=0.3)\n",
    "plt.subplot(2, 1, 2)\n",
    "plt.plot(epoch_num, train_loss_list, 'o-', label='train_loss')\n",
    "plt.plot(epoch_num, val_loss_list, 'o-', label='val_loss')\n",
    "plt.legend()\n",
    "plt.title('Train/Val loss vs epoches')\n",
    "x = MultipleLocator(1)\n",
    "ax = plt.gca()\n",
    "ax.xaxis.set_major_locator(x)\n",
    "plt.ylabel('Loss')\n",
    "plt.show()"
   ]
  },
  {
   "cell_type": "markdown",
   "metadata": {},
   "source": [
    "### Discussion"
   ]
  },
  {
   "cell_type": "markdown",
   "metadata": {},
   "source": [
    "We choose CNN as one of our models in solving facial mask detection because it usually serves as a natural and popular choice for image recognition tasks. With literature review and experiments in model training, we summarize the properties of CNN as follows:"
   ]
  },
  {
   "cell_type": "markdown",
   "metadata": {},
   "source": [
    "#### Advantages"
   ]
  },
  {
   "cell_type": "markdown",
   "metadata": {},
   "source": [
    "- Image feature capturing: CNN can accurately capture local patterns on images, thus providing insightful and interpretable feature banks to drive image recognition tasks."
   ]
  },
  {
   "cell_type": "markdown",
   "metadata": {},
   "source": [
    "- Parameter sharing: CNN model supports parameter sharing which greatly decrease reduce the burden of weight updating, which also speeds up the learning procedure."
   ]
  },
  {
   "cell_type": "markdown",
   "metadata": {},
   "source": [
    "- Parallel computation: Infra-wise, CNN computation can be easily parallelized (with GPU, for example) to reduce training durations. This is especially useful when we are dealing with bulk media data (e.g. image, audio, video)."
   ]
  },
  {
   "cell_type": "markdown",
   "metadata": {},
   "source": [
    "#### Disadvantages"
   ]
  },
  {
   "cell_type": "markdown",
   "metadata": {},
   "source": [
    "- The decision made by CNN models largely depend on individual filters. However, over-emphasizing on individual features might give rise to neglegance of the bigger picture. As a result, predictions of CNN can be obviously off because two totally irrelevant objects may happen to share some features."
   ]
  },
  {
   "cell_type": "markdown",
   "metadata": {},
   "source": [
    "### Reference"
   ]
  },
  {
   "cell_type": "markdown",
   "metadata": {},
   "source": [
    "Y. Lecun, L. Bottou, Y. Bengio and P. Haffner, \"Gradient-based learning applied to document recognition,\" in Proceedings of the IEEE, vol. 86, no. 11, pp. 2278-2324, Nov. 1998, doi: 10.1109/5.726791."
   ]
  },
  {
   "cell_type": "markdown",
   "metadata": {},
   "source": [
    "Puja Gupta, Varsha Sharma, Sunita Varma,\n",
    "A novel algorithm for mask detection and recognizing actions of human,\n",
    "Expert Systems with Applications,\n",
    "Volume 198,\n",
    "2022,\n",
    "116823,\n",
    "ISSN 0957-4174,\n",
    "https://doi.org/10.1016/j.eswa.2022.116823."
   ]
  },
  {
   "cell_type": "code",
   "execution_count": null,
   "metadata": {},
   "outputs": [],
   "source": []
  }
 ],
 "metadata": {
  "kernelspec": {
   "display_name": "CS5242",
   "language": "python",
   "name": "cs5242"
  },
  "language_info": {
   "codemirror_mode": {
    "name": "ipython",
    "version": 3
   },
   "file_extension": ".py",
   "mimetype": "text/x-python",
   "name": "python",
   "nbconvert_exporter": "python",
   "pygments_lexer": "ipython3",
   "version": "3.7.15"
  }
 },
 "nbformat": 4,
 "nbformat_minor": 4
}
