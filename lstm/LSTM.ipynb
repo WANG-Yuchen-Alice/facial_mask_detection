{
 "cells": [
  {
   "cell_type": "markdown",
   "metadata": {},
   "source": [
    "### Environment Setup"
   ]
  },
  {
   "cell_type": "code",
   "execution_count": 255,
   "metadata": {},
   "outputs": [],
   "source": [
    "import os\n",
    "import torch\n",
    "import torch.nn as nn\n",
    "import torch.utils.data as data\n",
    "import random\n",
    "import numpy as np\n",
    "from PIL import Image\n",
    "from PIL import ImageFile\n",
    "ImageFile.LOAD_TRUNCATED_IMAGES = True\n",
    "\n",
    "import torchvision\n",
    "import torchvision.transforms as transforms\n",
    "\n",
    "batch_size = 64\n",
    "num_classes = 3\n",
    "learning_rate = 0.001\n",
    "num_epochs = 10\n",
    "\n",
    "device = torch.device('cuda' if torch.cuda.is_available() else 'cpu')"
   ]
  },
  {
   "cell_type": "code",
   "execution_count": 244,
   "metadata": {},
   "outputs": [],
   "source": [
    "root_dir = os.getcwd() + '/data_processing'\n",
    "image_dir = root_dir + '/all_images/'\n",
    "train_dir = root_dir + '/train/'\n",
    "test_dir = root_dir + '/test/'\n",
    "val_dir = root_dir + '/val/'"
   ]
  },
  {
   "cell_type": "code",
   "execution_count": 171,
   "metadata": {},
   "outputs": [],
   "source": [
    "train_labels_file = root_dir + '/train_labels.pt'\n",
    "val_labels_file = root_dir + '/val_labels.pt'\n",
    "test_labels_file = root_dir + '/test_labels.pt'"
   ]
  },
  {
   "cell_type": "code",
   "execution_count": 172,
   "metadata": {},
   "outputs": [
    {
     "data": {
      "text/plain": [
       "9207"
      ]
     },
     "execution_count": 172,
     "metadata": {},
     "output_type": "execute_result"
    }
   ],
   "source": [
    "len(os.listdir(image_dir))"
   ]
  },
  {
   "cell_type": "code",
   "execution_count": 173,
   "metadata": {},
   "outputs": [],
   "source": [
    "for file in os.listdir(image_dir):\n",
    "    assert file.endswith(\".jpg\")"
   ]
  },
  {
   "cell_type": "code",
   "execution_count": 174,
   "metadata": {},
   "outputs": [],
   "source": [
    "model_dir = os.getcwd() + '/model_LSTM/'"
   ]
  },
  {
   "cell_type": "markdown",
   "metadata": {},
   "source": [
    "### Dataloader"
   ]
  },
  {
   "cell_type": "code",
   "execution_count": 245,
   "metadata": {},
   "outputs": [],
   "source": [
    "class FaceSet(data.Dataset):\n",
    "    def __init__(self,folder,transform):\n",
    "        self.transform=transform\n",
    "        imgs=[os.path.join(folder,f) for f in os.listdir(folder)]\n",
    "        self.imgs = imgs\n",
    "        \n",
    "    def __getitem__(self,index):\n",
    "        imgpath=self.imgs[index]\n",
    "        if os.path.exists(imgpath):\n",
    "            try:\n",
    "                im=Image.open(imgpath)\n",
    "            except:\n",
    "                return\n",
    "            if im.mode == \"RGBA\":\n",
    "                r, g, b, a=im.split ()\n",
    "                im=Image.merge (\"RGB\", (r, g, b))\n",
    "            elif im.mode!=\"RGB\":\n",
    "                im=im.convert (\"RGB\")\n",
    "            im=self.transform(im)\n",
    "            symbol = imgpath.split('/')[-1].split('.')[0].split('_')[-1]\n",
    "            \n",
    "            if symbol == \"0\" or symbol == \"nomask\":\n",
    "                label = 0\n",
    "            elif symbol == \"1\" or symbol == \"face\":\n",
    "                label = 1\n",
    "            else:\n",
    "                label = 2\n",
    "\n",
    "        return im,label\n",
    "    def __len__(self):\n",
    "        return len(self.imgs)"
   ]
  },
  {
   "cell_type": "code",
   "execution_count": 246,
   "metadata": {},
   "outputs": [
    {
     "name": "stdout",
     "output_type": "stream",
     "text": [
      "torch.Size([3, 32, 32])\n"
     ]
    }
   ],
   "source": [
    "transform_train=transforms.Compose([ \n",
    "    transforms.Resize((32,32)),\n",
    "    transforms.ToTensor(),\n",
    "    transforms.Normalize([0.5, 0.5, 0.5], [0.5, 0.5, 0.5])\n",
    "])\n",
    "transform_test=transforms.Compose([ \n",
    "    transforms.Resize((32,32)),\n",
    "    transforms.ToTensor(),\n",
    "    transforms.Normalize([0.5, 0.5, 0.5], [0.5, 0.5, 0.5])\n",
    "])\n",
    "\n",
    "for fn in os.listdir(image_dir):\n",
    "    im=Image.open(image_dir + fn)\n",
    "    print(transform_train(im).size())\n",
    "    break"
   ]
  },
  {
   "cell_type": "code",
   "execution_count": 250,
   "metadata": {},
   "outputs": [],
   "source": [
    "# define dataset\n",
    "trainset=FaceSet(train_dir,transform=transform_train)\n",
    "valset=FaceSet(val_dir,transform=transform_test)\n",
    "testset=FaceSet(test_dir,transform=transform_test)"
   ]
  },
  {
   "cell_type": "markdown",
   "metadata": {},
   "source": [
    "### Model Architecture"
   ]
  },
  {
   "cell_type": "code",
   "execution_count": 200,
   "metadata": {},
   "outputs": [],
   "source": [
    "class LSTM(nn.Module):\n",
    "    def __init__(self, input_dim, output_dim, hidden_dim, n_layers):\n",
    "        super(LSTM, self).__init__()\n",
    "        \n",
    "        self.n_layers = n_layers\n",
    "        self.hidden_dim = hidden_dim\n",
    "        \n",
    "        self.fc = nn.Linear(3 * 32 * 32, input_dim, bias=True)\n",
    "        self.relu = nn.ReLU()\n",
    "        self.lstm = nn.LSTM(input_dim, hidden_dim)\n",
    "        self.fc2 = nn.Linear(hidden_dim, output_dim)\n",
    "        \n",
    "    def forward(self, x):\n",
    "        feature = self.fc(x.flatten(1))\n",
    "        feature,_ = self.lstm(self.relu(feature.unsqueeze(1)))\n",
    "        output = self.fc2(feature.flatten(1))\n",
    "        \n",
    "        return output\n"
   ]
  },
  {
   "cell_type": "code",
   "execution_count": 251,
   "metadata": {},
   "outputs": [],
   "source": [
    "bs = batch_size\n",
    "train_loader=torch.utils.data.DataLoader(trainset,batch_size=bs,shuffle=True,num_workers=0)\n",
    "val_loader=torch.utils.data.DataLoader(valset,batch_size=bs,shuffle=False,num_workers=0)\n",
    "test_loader=torch.utils.data.DataLoader(testset,batch_size=bs,shuffle=False,num_workers=0)"
   ]
  },
  {
   "cell_type": "markdown",
   "metadata": {},
   "source": [
    "### Train and Evaluation"
   ]
  },
  {
   "cell_type": "code",
   "execution_count": 202,
   "metadata": {},
   "outputs": [
    {
     "name": "stdout",
     "output_type": "stream",
     "text": [
      "LSTM(\n",
      "  (fc): Linear(in_features=3072, out_features=512, bias=True)\n",
      "  (relu): ReLU()\n",
      "  (lstm): LSTM(512, 128)\n",
      "  (fc2): Linear(in_features=128, out_features=3, bias=True)\n",
      ")\n"
     ]
    }
   ],
   "source": [
    "#instatiate the model\n",
    "INPUT_DIM = 512\n",
    "OUTPUT_DIM = 3\n",
    "HIDDEN_DIM = 128\n",
    "N_LAYERS = 1\n",
    "model = LSTM(input_dim = INPUT_DIM, output_dim = OUTPUT_DIM, hidden_dim = HIDDEN_DIM, n_layers = N_LAYERS)\n",
    "model = model.to(device)\n",
    "print(model)"
   ]
  },
  {
   "cell_type": "code",
   "execution_count": 228,
   "metadata": {},
   "outputs": [],
   "source": [
    "cost = nn.CrossEntropyLoss()\n",
    "optimizer = torch.optim.Adam(model.parameters(), lr=learning_rate)\n",
    "total_step = len(train_loader)"
   ]
  },
  {
   "cell_type": "code",
   "execution_count": 229,
   "metadata": {
    "scrolled": true
   },
   "outputs": [
    {
     "name": "stdout",
     "output_type": "stream",
     "text": [
      "Train Epoch [1/10], Step [14/14], Loss: 0.8635, Accuracy: 0.6127\n",
      "Val Epoch [1/10], Step [3/14], Loss: 0.6568, Accuracy: 0.7102\n",
      "Train Epoch [2/10], Step [14/14], Loss: 0.4926, Accuracy: 0.8188\n",
      "Val Epoch [2/10], Step [3/14], Loss: 0.4778, Accuracy: 0.8011\n",
      "Train Epoch [3/10], Step [14/14], Loss: 0.2947, Accuracy: 0.8913\n",
      "Val Epoch [3/10], Step [3/14], Loss: 0.3939, Accuracy: 0.8466\n",
      "Train Epoch [4/10], Step [14/14], Loss: 0.1849, Accuracy: 0.9377\n",
      "Val Epoch [4/10], Step [3/14], Loss: 0.3896, Accuracy: 0.8636\n",
      "Train Epoch [5/10], Step [14/14], Loss: 0.1204, Accuracy: 0.9683\n",
      "Val Epoch [5/10], Step [3/14], Loss: 0.3818, Accuracy: 0.8807\n",
      "Train Epoch [6/10], Step [14/14], Loss: 0.0833, Accuracy: 0.9773\n",
      "Val Epoch [6/10], Step [3/14], Loss: 0.4260, Accuracy: 0.8693\n",
      "Train Epoch [7/10], Step [14/14], Loss: 0.0648, Accuracy: 0.9841\n",
      "Val Epoch [7/10], Step [3/14], Loss: 0.4934, Accuracy: 0.8409\n",
      "Train Epoch [8/10], Step [14/14], Loss: 0.0488, Accuracy: 0.9875\n",
      "Val Epoch [8/10], Step [3/14], Loss: 0.4075, Accuracy: 0.8864\n",
      "Train Epoch [9/10], Step [14/14], Loss: 0.0330, Accuracy: 0.9932\n",
      "Val Epoch [9/10], Step [3/14], Loss: 0.3956, Accuracy: 0.8864\n",
      "Train Epoch [10/10], Step [14/14], Loss: 0.0173, Accuracy: 0.9989\n",
      "Val Epoch [10/10], Step [3/14], Loss: 0.4203, Accuracy: 0.8807\n"
     ]
    }
   ],
   "source": [
    "total_step = len(train_loader)\n",
    "\n",
    "epoch_num = range(num_epochs)\n",
    "train_acc_list = []\n",
    "train_loss_list = []\n",
    "val_acc_list = []\n",
    "val_loss_list = []\n",
    "\n",
    "for epoch in range(num_epochs):\n",
    "    \n",
    "    ### Train\n",
    "    correct = 0\n",
    "    total = 0\n",
    "    running_loss = 0.0\n",
    "    model.train()\n",
    "\n",
    "    for i, (images, labels) in enumerate(train_loader):\n",
    "        images = images.to(device)\n",
    "        labels = labels.to(device)\n",
    "        \n",
    "        #Forward pass\n",
    "        outputs = model(images)\n",
    "        loss = cost(outputs, labels)\n",
    "        \n",
    "        _, predicted = torch.max(outputs.data, 1)\n",
    "        total += labels.size(0)\n",
    "        correct += (predicted == labels).sum().item()\n",
    "        running_loss += loss.item()\n",
    "\n",
    "        # Backward and optimize\n",
    "        optimizer.zero_grad()\n",
    "        loss.backward()\n",
    "        optimizer.step()\n",
    "        \n",
    "    train_acc = correct / total\n",
    "    train_loss = running_loss / (i+1)\n",
    "    train_acc_list.append(train_acc)\n",
    "    train_loss_list.append(train_loss)\n",
    "        \n",
    "    print ('Train Epoch [{}/{}], Step [{}/{}], Loss: {:.4f}, Accuracy: {:.4f}'\n",
    "    .format(epoch+1, num_epochs, i+1, total_step, train_loss, train_acc))\n",
    "    \n",
    "    ### Evaluation\n",
    "    correct = 0\n",
    "    total = 0\n",
    "    running_loss = 0.0\n",
    "    model.eval()\n",
    "    for i, (images, labels) in enumerate(val_loader):  \n",
    "        images = images.to(device)\n",
    "        labels = labels.to(device)\n",
    "        #Forward pass\n",
    "        outputs = model(images)\n",
    "        loss = cost(outputs, labels)\n",
    "        \n",
    "        _, predicted = torch.max(outputs.data, 1)\n",
    "        total += labels.size(0)\n",
    "        correct += (predicted == labels).sum().item()\n",
    "        running_loss += loss.item()\n",
    "        \n",
    "    val_acc = correct / total\n",
    "    val_loss = running_loss / (i+1)\n",
    "    val_acc_list.append(val_acc)\n",
    "    val_loss_list.append(val_loss)\n",
    "        \n",
    "    print ('Val Epoch [{}/{}], Step [{}/{}], Loss: {:.4f}, Accuracy: {:.4f}'\n",
    "    .format(epoch+1, num_epochs, i+1, total_step, val_loss, val_acc))"
   ]
  },
  {
   "cell_type": "markdown",
   "metadata": {},
   "source": [
    "### Test"
   ]
  },
  {
   "cell_type": "code",
   "execution_count": 252,
   "metadata": {},
   "outputs": [
    {
     "name": "stdout",
     "output_type": "stream",
     "text": [
      "Accuracy of the network on the test set: 81.48148148148148 %\n"
     ]
    }
   ],
   "source": [
    "### Test\n",
    "with torch.no_grad():\n",
    "    correct = 0\n",
    "    total = 0\n",
    "    for images, labels in test_loader:\n",
    "        images = images.to(device)\n",
    "        labels = labels.to(device)\n",
    "        outputs = model(images)\n",
    "        _, predicted = torch.max(outputs.data, 1)\n",
    "        total += labels.size(0)\n",
    "        correct += (predicted == labels).sum().item()\n",
    "\n",
    "    print('Accuracy of the network on the test set: {} %'.format(100 * correct / total))"
   ]
  },
  {
   "cell_type": "markdown",
   "metadata": {},
   "source": [
    "### visualization"
   ]
  },
  {
   "cell_type": "code",
   "execution_count": 259,
   "metadata": {},
   "outputs": [],
   "source": [
    "train_lossli=np.array(train_loss_list)\n",
    "val_lossli=np.array(val_loss_list)\n",
    "train_accli=np.array(train_acc_list)\n",
    "val_accli=np.array(val_acc_list)\n",
    "np.savetxt(model_dir+'/LSTM_train_loss.txt',train_lossli)\n",
    "np.savetxt(model_dir+'/LSTM_val_loss.txt',val_lossli)\n",
    "np.savetxt(model_dir+'/LSTM_train_acc.txt',train_accli)\n",
    "np.savetxt(model_dir+'/LSTM_val_acc.txt',val_accli)"
   ]
  },
  {
   "cell_type": "code",
   "execution_count": 253,
   "metadata": {},
   "outputs": [
    {
     "data": {
      "image/png": "[encoded data removed]",
      "text/plain": [
       "<Figure size 640x480 with 2 Axes>"
      ]
     },
     "metadata": {},
     "output_type": "display_data"
    }
   ],
   "source": [
    "from matplotlib.pyplot import MultipleLocator\n",
    "import matplotlib.pyplot as plt\n",
    "\n",
    "plt.subplot(2, 1, 1)\n",
    "plt.plot(epoch_num, train_acc_list, 'o-', label='train_acc')\n",
    "plt.plot(epoch_num, val_acc_list, 'o-', label='val_acc')\n",
    "plt.legend()\n",
    "plt.title('Train/Val accuracy vs epoches')\n",
    "x = MultipleLocator(1)\n",
    "ax = plt.gca()\n",
    "ax.xaxis.set_major_locator(x)\n",
    "plt.ylabel('Accuracy')\n",
    "plt.subplots_adjust(wspace=0, hspace=0.3)\n",
    "plt.subplot(2, 1, 2)\n",
    "plt.plot(epoch_num, train_loss_list, 'o-', label='train_loss')\n",
    "plt.plot(epoch_num, val_loss_list, 'o-', label='val_loss')\n",
    "plt.legend()\n",
    "plt.title('Train/Val loss vs epoches')\n",
    "x = MultipleLocator(1)\n",
    "ax = plt.gca()\n",
    "ax.xaxis.set_major_locator(x)\n",
    "plt.ylabel('Loss')\n",
    "plt.show()"
   ]
  },
  {
   "cell_type": "markdown",
   "metadata": {},
   "source": [
    "### Reference"
   ]
  },
  {
   "cell_type": "markdown",
   "metadata": {},
   "source": [
    "Hochreiter, Sepp & Schmidhuber, Jürgen. (1997). Long Short-term Memory. Neural computation. 9. 1735-80. 10.1162/neco.1997.9.8.1735. "
   ]
  },
  {
   "cell_type": "markdown",
   "metadata": {},
   "source": [
    "Sherstinsky A. Fundamentals of recurrent neural network (RNN) and long short-term memory (LSTM) network[J]. Physica D: Nonlinear Phenomena, 2020, 404: 132306."
   ]
  },
  {
   "cell_type": "code",
   "execution_count": null,
   "metadata": {},
   "outputs": [],
   "source": []
  }
 ],
 "metadata": {
  "kernelspec": {
   "display_name": "Python 3 (ipykernel)",
   "language": "python",
   "name": "python3"
  },
  "language_info": {
   "codemirror_mode": {
    "name": "ipython",
    "version": 3
   },
   "file_extension": ".py",
   "mimetype": "text/x-python",
   "name": "python",
   "nbconvert_exporter": "python",
   "pygments_lexer": "ipython3",
   "version": "3.9.12"
  }
 },
 "nbformat": 4,
 "nbformat_minor": 4
}
